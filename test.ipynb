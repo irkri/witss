{
 "cells": [
  {
   "cell_type": "code",
   "execution_count": 104,
   "metadata": {},
   "outputs": [],
   "source": [
    "import re\n",
    "# FORMAT = re.compile(r\"(\\[(-?\\d|\\(-?\\d+\\))(\\^(-?\\d+|\\(-?\\d+\\)))?\\])+\")\n",
    "FORMAT = re.compile(r\"(?:(-?\\d)|\\((-?\\d+)\\))(?:\\^(?:(-?\\d)|\\((-?\\d+)\\)))?\")\n"
   ]
  },
  {
   "cell_type": "code",
   "execution_count": 112,
   "metadata": {},
   "outputs": [
    {
     "data": {
      "text/plain": [
       "[('', '12', '', '-2'),\n",
       " ('-3', '', '', ''),\n",
       " ('3', '', '', ''),\n",
       " ('4', '', '5', ''),\n",
       " ('4', '', '', '')]"
      ]
     },
     "execution_count": 112,
     "metadata": {},
     "output_type": "execute_result"
    }
   ],
   "source": [
    "FORMAT.findall(\"(12)^(-2)-334^54\")"
   ]
  },
  {
   "cell_type": "code",
   "execution_count": 1,
   "metadata": {},
   "outputs": [],
   "source": [
    "import iss\n",
    "\n",
    "word = iss.Word(\"[(12)^(-2)334^54][1^2334]\")"
   ]
  },
  {
   "cell_type": "code",
   "execution_count": 2,
   "metadata": {},
   "outputs": [
    {
     "data": {
      "text/plain": [
       "'[(12)^(-2)3^24^6][1^23^24]'"
      ]
     },
     "execution_count": 2,
     "metadata": {},
     "output_type": "execute_result"
    }
   ],
   "source": [
    "str(word)"
   ]
  }
 ],
 "metadata": {
  "kernelspec": {
   "display_name": "iss-Qrml41Ps-py3.12",
   "language": "python",
   "name": "python3"
  },
  "language_info": {
   "codemirror_mode": {
    "name": "ipython",
    "version": 3
   },
   "file_extension": ".py",
   "mimetype": "text/x-python",
   "name": "python",
   "nbconvert_exporter": "python",
   "pygments_lexer": "ipython3",
   "version": "3.12.6"
  }
 },
 "nbformat": 4,
 "nbformat_minor": 2
}
