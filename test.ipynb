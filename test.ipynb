{
 "cells": [
  {
   "cell_type": "code",
   "execution_count": 1,
   "metadata": {},
   "outputs": [],
   "source": [
    "import iss\n",
    "import numpy as np\n",
    "from matplotlib import pyplot as plt"
   ]
  },
  {
   "cell_type": "code",
   "execution_count": 2,
   "metadata": {},
   "outputs": [],
   "source": [
    "x = np.sin(np.linspace(0, 2*np.pi, 100))\n",
    "\n",
    "sums = iss.iss(x, iss.Word(\"[1][1]\"))"
   ]
  },
  {
   "cell_type": "code",
   "execution_count": 12,
   "metadata": {},
   "outputs": [],
   "source": [
    "x = np.array([1,2,3,4,5]).reverse()"
   ]
  },
  {
   "cell_type": "code",
   "execution_count": 11,
   "metadata": {},
   "outputs": [
    {
     "data": {
      "text/plain": [
       "array([ 2,  4,  6,  8, 10])"
      ]
     },
     "execution_count": 11,
     "metadata": {},
     "output_type": "execute_result"
    }
   ],
   "source": [
    "iss.iss(x, iss.Word(\"[1^2]\"), semiring=iss.semiring.Arctic())"
   ]
  },
  {
   "cell_type": "code",
   "execution_count": 3,
   "metadata": {},
   "outputs": [
    {
     "data": {
      "text/plain": [
       "[<matplotlib.lines.Line2D at 0x1bbd6a4a570>]"
      ]
     },
     "execution_count": 3,
     "metadata": {},
     "output_type": "execute_result"
    },
    {
     "data": {
      "image/png": "[encoded data removed]",
      "text/plain": [
       "<Figure size 640x480 with 1 Axes>"
      ]
     },
     "metadata": {},
     "output_type": "display_data"
    }
   ],
   "source": [
    "plt.plot(x)\n",
    "plt.plot(sums)"
   ]
  },
  {
   "cell_type": "code",
   "execution_count": 1,
   "metadata": {},
   "outputs": [],
   "source": [
    "import re\n",
    "# FORMAT = re.compile(r\"(\\[(-?\\d|\\(-?\\d+\\))(\\^(-?\\d+|\\(-?\\d+\\)))?\\])+\")\n",
    "FORMAT = re.compile(r\"(?:(-?\\d)|\\((-?\\d+)\\))(?:\\^(?:(-?\\d)|\\((-?\\d+)\\)))?\")\n",
    "FULLFORMAT = re.compile(r\"(\\[(((-?\\d)|\\((-?\\d+)\\))(\\^((-?\\d)|\\((-?\\d+)\\)))?)+\\])+\")\n"
   ]
  },
  {
   "cell_type": "code",
   "execution_count": 12,
   "metadata": {},
   "outputs": [
    {
     "name": "stdout",
     "output_type": "stream",
     "text": [
      "None\n"
     ]
    }
   ],
   "source": [
    "print(FULLFORMAT.fullmatch(\"[(-13)^(-2)][1^(25)3][]\"))"
   ]
  },
  {
   "cell_type": "code",
   "execution_count": 3,
   "metadata": {},
   "outputs": [
    {
     "data": {
      "text/plain": [
       "Word([])"
      ]
     },
     "execution_count": 3,
     "metadata": {},
     "output_type": "execute_result"
    }
   ],
   "source": [
    "iss.Word(\"[1^21^(-2)]\")"
   ]
  },
  {
   "cell_type": "code",
   "execution_count": 3,
   "metadata": {},
   "outputs": [
    {
     "ename": "NameError",
     "evalue": "name 'FULLFORMAT' is not defined",
     "output_type": "error",
     "traceback": [
      "\u001b[1;31m---------------------------------------------------------------------------\u001b[0m",
      "\u001b[1;31mNameError\u001b[0m                                 Traceback (most recent call last)",
      "Cell \u001b[1;32mIn[3], line 1\u001b[0m\n\u001b[1;32m----> 1\u001b[0m \u001b[43mFULLFORMAT\u001b[49m\u001b[38;5;241m.\u001b[39mfindall(\u001b[38;5;124m\"\u001b[39m\u001b[38;5;124mfeff\u001b[39m\u001b[38;5;124m\"\u001b[39m)\n",
      "\u001b[1;31mNameError\u001b[0m: name 'FULLFORMAT' is not defined"
     ]
    }
   ],
   "source": [
    "FULLFORMAT.findall(\"feff\")"
   ]
  },
  {
   "cell_type": "code",
   "execution_count": 1,
   "metadata": {},
   "outputs": [],
   "source": [
    "import iss\n",
    "\n",
    "word = iss.Word(\"[(12)^(-2)334^54][1^(23)334]\")"
   ]
  },
  {
   "cell_type": "code",
   "execution_count": 3,
   "metadata": {},
   "outputs": [
    {
     "data": {
      "text/plain": [
       "'[(12)^(-2)3^24^6][1^(23)3^24]'"
      ]
     },
     "execution_count": 3,
     "metadata": {},
     "output_type": "execute_result"
    }
   ],
   "source": [
    "str(word)"
   ]
  },
  {
   "cell_type": "code",
   "execution_count": 8,
   "metadata": {},
   "outputs": [
    {
     "data": {
      "text/plain": [
       "[(12, 3, 4), (-2, 2, 6)]"
      ]
     },
     "execution_count": 8,
     "metadata": {},
     "output_type": "execute_result"
    }
   ],
   "source": [
    "list(zip(*word._letters[0]))"
   ]
  },
  {
   "cell_type": "code",
   "execution_count": 2,
   "metadata": {},
   "outputs": [
    {
     "data": {
      "text/plain": [
       "array([[ 0.,  0.,  2.,  6.,  0.,  0.,  0.,  0.,  0.,  0.,  0., -2.],\n",
       "       [23.,  0.,  2.,  1.,  0.,  0.,  0.,  0.,  0.,  0.,  0.,  0.]])"
      ]
     },
     "execution_count": 2,
     "metadata": {},
     "output_type": "execute_result"
    }
   ],
   "source": [
    "word.numpy()"
   ]
  },
  {
   "cell_type": "code",
   "execution_count": 6,
   "metadata": {},
   "outputs": [
    {
     "data": {
      "text/plain": [
       "'[(12)^(-2)3^24^6][1^(23)3^24]'"
      ]
     },
     "execution_count": 6,
     "metadata": {},
     "output_type": "execute_result"
    }
   ],
   "source": [
    "str(word)"
   ]
  },
  {
   "cell_type": "code",
   "execution_count": 7,
   "metadata": {},
   "outputs": [
    {
     "data": {
      "text/plain": [
       "'[12^3][(12)^(-2)3^24^6][1^(23)3^24]'"
      ]
     },
     "execution_count": 7,
     "metadata": {},
     "output_type": "execute_result"
    }
   ],
   "source": [
    "str(\"[1222]\"*word)"
   ]
  },
  {
   "cell_type": "code",
   "execution_count": 13,
   "metadata": {},
   "outputs": [
    {
     "data": {
      "text/plain": [
       "[(Word([]), Word([1][2][3][4])),\n",
       " (Word([1]), Word([2][3][4])),\n",
       " (Word([1][2]), Word([3][4])),\n",
       " (Word([1][2][3]), Word([4])),\n",
       " (Word([1][2][3][4]), Word([]))]"
      ]
     },
     "execution_count": 13,
     "metadata": {},
     "output_type": "execute_result"
    }
   ],
   "source": [
    "word = iss.Word(\"[1][2][3][4]\")\n",
    "word.deconcat()"
   ]
  },
  {
   "cell_type": "code",
   "execution_count": 2,
   "metadata": {},
   "outputs": [],
   "source": [
    "import numpy as np\n",
    "x = np.random.random((1000, 4))"
   ]
  },
  {
   "cell_type": "code",
   "execution_count": 28,
   "metadata": {},
   "outputs": [],
   "source": [
    "array = np.zeros((len(word)+1,))\n",
    "for i, w in enumerate(word.deconcat()):\n",
    "    array[i] = iss.iss(x[:500], w[0])[-1] * iss.iss(x[500:], w[1])[-1]"
   ]
  },
  {
   "cell_type": "code",
   "execution_count": 35,
   "metadata": {},
   "outputs": [
    {
     "data": {
      "text/plain": [
       "(np.float64(2608916943.0081983), np.float64(2608916943.008198))"
      ]
     },
     "execution_count": 35,
     "metadata": {},
     "output_type": "execute_result"
    }
   ],
   "source": [
    "iss.iss(x, word)[-1], array.sum(axis=0)"
   ]
  },
  {
   "cell_type": "code",
   "execution_count": 2,
   "metadata": {},
   "outputs": [
    {
     "data": {
      "text/plain": [
       "(Word([1^3]),\n",
       " Word([1^22]),\n",
       " Word([1^23]),\n",
       " Word([1^24]),\n",
       " Word([12^2]),\n",
       " Word([123]),\n",
       " Word([124]),\n",
       " Word([13^2]),\n",
       " Word([134]),\n",
       " Word([14^2]),\n",
       " Word([2^3]),\n",
       " Word([2^23]),\n",
       " Word([2^24]),\n",
       " Word([23^2]),\n",
       " Word([234]),\n",
       " Word([24^2]),\n",
       " Word([3^3]),\n",
       " Word([3^24]),\n",
       " Word([34^2]),\n",
       " Word([4^3]),\n",
       " Word([1][1^2]),\n",
       " Word([1][12]),\n",
       " Word([1][13]),\n",
       " Word([1][14]),\n",
       " Word([1][2^2]),\n",
       " Word([1][23]),\n",
       " Word([1][24]),\n",
       " Word([1][3^2]),\n",
       " Word([1][34]),\n",
       " Word([1][4^2]),\n",
       " Word([2][1^2]),\n",
       " Word([2][12]),\n",
       " Word([2][13]),\n",
       " Word([2][14]),\n",
       " Word([2][2^2]),\n",
       " Word([2][23]),\n",
       " Word([2][24]),\n",
       " Word([2][3^2]),\n",
       " Word([2][34]),\n",
       " Word([2][4^2]),\n",
       " Word([3][1^2]),\n",
       " Word([3][12]),\n",
       " Word([3][13]),\n",
       " Word([3][14]),\n",
       " Word([3][2^2]),\n",
       " Word([3][23]),\n",
       " Word([3][24]),\n",
       " Word([3][3^2]),\n",
       " Word([3][34]),\n",
       " Word([3][4^2]),\n",
       " Word([4][1^2]),\n",
       " Word([4][12]),\n",
       " Word([4][13]),\n",
       " Word([4][14]),\n",
       " Word([4][2^2]),\n",
       " Word([4][23]),\n",
       " Word([4][24]),\n",
       " Word([4][3^2]),\n",
       " Word([4][34]),\n",
       " Word([4][4^2]),\n",
       " Word([1^2][1]),\n",
       " Word([1^2][2]),\n",
       " Word([1^2][3]),\n",
       " Word([1^2][4]),\n",
       " Word([12][1]),\n",
       " Word([12][2]),\n",
       " Word([12][3]),\n",
       " Word([12][4]),\n",
       " Word([13][1]),\n",
       " Word([13][2]),\n",
       " Word([13][3]),\n",
       " Word([13][4]),\n",
       " Word([14][1]),\n",
       " Word([14][2]),\n",
       " Word([14][3]),\n",
       " Word([14][4]),\n",
       " Word([2^2][1]),\n",
       " Word([2^2][2]),\n",
       " Word([2^2][3]),\n",
       " Word([2^2][4]),\n",
       " Word([23][1]),\n",
       " Word([23][2]),\n",
       " Word([23][3]),\n",
       " Word([23][4]),\n",
       " Word([24][1]),\n",
       " Word([24][2]),\n",
       " Word([24][3]),\n",
       " Word([24][4]),\n",
       " Word([3^2][1]),\n",
       " Word([3^2][2]),\n",
       " Word([3^2][3]),\n",
       " Word([3^2][4]),\n",
       " Word([34][1]),\n",
       " Word([34][2]),\n",
       " Word([34][3]),\n",
       " Word([34][4]),\n",
       " Word([4^2][1]),\n",
       " Word([4^2][2]),\n",
       " Word([4^2][3]),\n",
       " Word([4^2][4]),\n",
       " Word([1][1][1]),\n",
       " Word([1][1][2]),\n",
       " Word([1][1][3]),\n",
       " Word([1][1][4]),\n",
       " Word([1][2][1]),\n",
       " Word([1][2][2]),\n",
       " Word([1][2][3]),\n",
       " Word([1][2][4]),\n",
       " Word([1][3][1]),\n",
       " Word([1][3][2]),\n",
       " Word([1][3][3]),\n",
       " Word([1][3][4]),\n",
       " Word([1][4][1]),\n",
       " Word([1][4][2]),\n",
       " Word([1][4][3]),\n",
       " Word([1][4][4]),\n",
       " Word([2][1][1]),\n",
       " Word([2][1][2]),\n",
       " Word([2][1][3]),\n",
       " Word([2][1][4]),\n",
       " Word([2][2][1]),\n",
       " Word([2][2][2]),\n",
       " Word([2][2][3]),\n",
       " Word([2][2][4]),\n",
       " Word([2][3][1]),\n",
       " Word([2][3][2]),\n",
       " Word([2][3][3]),\n",
       " Word([2][3][4]),\n",
       " Word([2][4][1]),\n",
       " Word([2][4][2]),\n",
       " Word([2][4][3]),\n",
       " Word([2][4][4]),\n",
       " Word([3][1][1]),\n",
       " Word([3][1][2]),\n",
       " Word([3][1][3]),\n",
       " Word([3][1][4]),\n",
       " Word([3][2][1]),\n",
       " Word([3][2][2]),\n",
       " Word([3][2][3]),\n",
       " Word([3][2][4]),\n",
       " Word([3][3][1]),\n",
       " Word([3][3][2]),\n",
       " Word([3][3][3]),\n",
       " Word([3][3][4]),\n",
       " Word([3][4][1]),\n",
       " Word([3][4][2]),\n",
       " Word([3][4][3]),\n",
       " Word([3][4][4]),\n",
       " Word([4][1][1]),\n",
       " Word([4][1][2]),\n",
       " Word([4][1][3]),\n",
       " Word([4][1][4]),\n",
       " Word([4][2][1]),\n",
       " Word([4][2][2]),\n",
       " Word([4][2][3]),\n",
       " Word([4][2][4]),\n",
       " Word([4][3][1]),\n",
       " Word([4][3][2]),\n",
       " Word([4][3][3]),\n",
       " Word([4][3][4]),\n",
       " Word([4][4][1]),\n",
       " Word([4][4][2]),\n",
       " Word([4][4][3]),\n",
       " Word([4][4][4]))"
      ]
     },
     "execution_count": 2,
     "metadata": {},
     "output_type": "execute_result"
    }
   ],
   "source": [
    "iss.words.of_weight(3, 4)"
   ]
  },
  {
   "cell_type": "code",
   "execution_count": 7,
   "metadata": {},
   "outputs": [
    {
     "data": {
      "text/plain": [
       "2.0411203000003297"
      ]
     },
     "execution_count": 7,
     "metadata": {},
     "output_type": "execute_result"
    }
   ],
   "source": [
    "import timeit\n",
    "\n",
    "timeit.timeit(lambda: iss.iss(np.random.random((10000, 1)), iss.Word('[1][1][1]')), number=10000)"
   ]
  },
  {
   "cell_type": "code",
   "execution_count": 8,
   "metadata": {},
   "outputs": [
    {
     "data": {
      "text/plain": [
       "1.8859054999993532"
      ]
     },
     "execution_count": 8,
     "metadata": {},
     "output_type": "execute_result"
    }
   ],
   "source": [
    "import timeit\n",
    "\n",
    "timeit.timeit(lambda: iss.iss(np.random.random((10000, 1)), iss.Word('[1][1][1]')), number=10000)"
   ]
  },
  {
   "cell_type": "code",
   "execution_count": 65,
   "metadata": {},
   "outputs": [
    {
     "data": {
      "text/plain": [
       "4.811156300000221"
      ]
     },
     "execution_count": 65,
     "metadata": {},
     "output_type": "execute_result"
    }
   ],
   "source": [
    "timeit.timeit(lambda: iss.iss(np.random.random((10000, 1)), iss.Word('[1][1][1]'), weighting=iss.weighting.Exponential((0, 0, 0))), number=10000)"
   ]
  },
  {
   "cell_type": "code",
   "execution_count": 77,
   "metadata": {},
   "outputs": [
    {
     "name": "stdout",
     "output_type": "stream",
     "text": [
      "sequential: 2.3995240000003832\n",
      "partial: 2.0156124999994063\n"
     ]
    }
   ],
   "source": [
    "def time_iss():\n",
    "    x = np.random.random((10000, 1))\n",
    "    word = iss.Word(3*\"[1]\")\n",
    "    iss.iss(x, word)\n",
    "\n",
    "def time_iss_partial():\n",
    "    x = np.random.random((10000, 1))\n",
    "    word = iss.Word(3*\"[1]\")\n",
    "    iss.iss(x, word, partial=True)\n",
    "\n",
    "print(\"sequential:\", timeit.timeit(time_iss, number=10000))\n",
    "print(\"partial:\", timeit.timeit(time_iss_partial, number=10000))"
   ]
  }
 ],
 "metadata": {
  "kernelspec": {
   "display_name": "iss-Qrml41Ps-py3.12",
   "language": "python",
   "name": "python3"
  },
  "language_info": {
   "codemirror_mode": {
    "name": "ipython",
    "version": 3
   },
   "file_extension": ".py",
   "mimetype": "text/x-python",
   "name": "python",
   "nbconvert_exporter": "python",
   "pygments_lexer": "ipython3",
   "version": "3.12.4"
  }
 },
 "nbformat": 4,
 "nbformat_minor": 2
}
