{
 "cells": [
  {
   "cell_type": "code",
   "execution_count": 1,
   "metadata": {},
   "outputs": [],
   "source": [
    "import iss\n",
    "import numpy as np\n",
    "from matplotlib import pyplot as plt\n",
    "import timeit"
   ]
  },
  {
   "cell_type": "code",
   "execution_count": 2,
   "metadata": {},
   "outputs": [],
   "source": [
    "def brownian(\n",
    "    T: int,\n",
    "    dt: float = 1,\n",
    "    x0: float = 0,\n",
    "    delta: float = .1,\n",
    ") -> np.ndarray:\n",
    "    x = np.random.normal(size=(T,), scale=delta*np.sqrt(dt))\n",
    "    return np.cumsum(x) + x0"
   ]
  },
  {
   "cell_type": "markdown",
   "metadata": {},
   "source": [
    "## Words"
   ]
  },
  {
   "cell_type": "code",
   "execution_count": 2,
   "metadata": {},
   "outputs": [
    {
     "name": "stdout",
     "output_type": "stream",
     "text": [
      "[2] [2][1][1]\n",
      "[1] [1][1][1][1]\n",
      "[2][1] [2][1][1]\n",
      "[1][1] [1][1][1][1]\n",
      "[1][1][1] [1][1][1][1]\n"
     ]
    }
   ],
   "source": [
    "bow = iss.BagOfWords(\n",
    "    iss.Word(\"[1][1]\"),\n",
    "    iss.Word(\"[1][1^2][1]\"),\n",
    "    iss.Word(\"[1]\"),\n",
    "    iss.Word(\"[1][1][1][1]\"),\n",
    "    iss.Word(\"[2][1]\"),\n",
    "    iss.Word(\"[1][1][1]\"),\n",
    "    iss.Word(\"[2][1][1]\"),\n",
    "    iss.Word(\"[2]\"),\n",
    ")\n",
    "list(bow)\n",
    "words = [iss.Word(\"[1][1]\"),\n",
    "    iss.Word(\"[1][1^2][1]\"),\n",
    "    iss.Word(\"[1]\"),\n",
    "    iss.Word(\"[1][1][1][1]\"),\n",
    "    iss.Word(\"[2][1]\"),\n",
    "    iss.Word(\"[1][1][1]\"),\n",
    "    iss.Word(\"[2][1][1]\"),\n",
    "    iss.Word(\"[2]\"),]"
   ]
  },
  {
   "cell_type": "code",
   "execution_count": 13,
   "metadata": {},
   "outputs": [],
   "source": [
    "x = np.random.random((100000, 4))"
   ]
  },
  {
   "cell_type": "code",
   "execution_count": 20,
   "metadata": {},
   "outputs": [
    {
     "data": {
      "text/plain": [
       "6.866931300028227"
      ]
     },
     "execution_count": 20,
     "metadata": {},
     "output_type": "execute_result"
    }
   ],
   "source": [
    "timeit.timeit(lambda: iss.iss(x, bow), number=1000)"
   ]
  },
  {
   "cell_type": "code",
   "execution_count": 19,
   "metadata": {},
   "outputs": [
    {
     "data": {
      "text/plain": [
       "7.629633700009435"
      ]
     },
     "execution_count": 19,
     "metadata": {},
     "output_type": "execute_result"
    }
   ],
   "source": [
    "timeit.timeit(lambda: [iss.iss(x, word) for word in words], number=1000)"
   ]
  },
  {
   "cell_type": "code",
   "execution_count": 12,
   "metadata": {},
   "outputs": [
    {
     "data": {
      "text/plain": [
       "True"
      ]
     },
     "execution_count": 12,
     "metadata": {},
     "output_type": "execute_result"
    }
   ],
   "source": [
    "word = iss.Word(\"[1][22][3][4][1][2][3][4]\")\n",
    "iss.Word(\"[1][2^2]\") in word"
   ]
  },
  {
   "cell_type": "code",
   "execution_count": 54,
   "metadata": {},
   "outputs": [
    {
     "data": {
      "text/plain": [
       "[5.78829380008392,\n",
       " 5.746984999976121,\n",
       " 6.388689899933524,\n",
       " 6.793954299995676,\n",
       " 6.164822799968533]"
      ]
     },
     "execution_count": 54,
     "metadata": {},
     "output_type": "execute_result"
    }
   ],
   "source": [
    "timeit.repeat(lambda: iss.iss(x, word, chen_at=500000, normalize=True), number=10)"
   ]
  },
  {
   "cell_type": "code",
   "execution_count": 52,
   "metadata": {},
   "outputs": [
    {
     "data": {
      "text/plain": [
       "[0.9576186999911442,\n",
       " 0.9411629000678658,\n",
       " 0.9461590000428259,\n",
       " 0.9544606000417843,\n",
       " 0.9546316999476403]"
      ]
     },
     "execution_count": 52,
     "metadata": {},
     "output_type": "execute_result"
    }
   ],
   "source": [
    "timeit.repeat(lambda: iss.iss(x, word, normalize=True), number=10)"
   ]
  },
  {
   "cell_type": "code",
   "execution_count": 55,
   "metadata": {},
   "outputs": [],
   "source": [
    "np.testing.assert_allclose(itsum_chen, itsum)"
   ]
  },
  {
   "cell_type": "markdown",
   "metadata": {},
   "source": [
    "### Iterated sums of a circle"
   ]
  },
  {
   "cell_type": "code",
   "execution_count": 95,
   "metadata": {},
   "outputs": [],
   "source": [
    "rn = np.linspace(0, 2*np.pi, 200)\n",
    "\n",
    "x1 = np.c_[np.cos(rn-np.pi), np.sin(rn)]\n",
    "\n",
    "rn = np.linspace(-1, 1, 100)\n",
    "\n",
    "x2 = np.c_[\n",
    "    np.r_[rn, rn[-2::-1]],\n",
    "    np.r_[np.sqrt(1-rn**2), -np.sqrt(1-rn[-2::-1]**2)],\n",
    "]"
   ]
  },
  {
   "cell_type": "code",
   "execution_count": null,
   "metadata": {},
   "outputs": [],
   "source": [
    "plt.plot(x1[:, 0], x1[:, 1])\n",
    "plt.gca().set_aspect(\"equal\")"
   ]
  },
  {
   "cell_type": "code",
   "execution_count": 105,
   "metadata": {},
   "outputs": [],
   "source": [
    "words = []\n",
    "words.append(iss.words.of_weight(1, 2))\n",
    "words.append(iss.words.of_weight(2, 2))\n",
    "words.append(iss.words.of_weight(3, 2))\n",
    "words.append(iss.words.of_weight(4, 2))\n",
    "words.append(iss.words.of_weight(5, 2))"
   ]
  },
  {
   "cell_type": "code",
   "execution_count": null,
   "metadata": {},
   "outputs": [],
   "source": [
    "fig, ax = plt.subplots(len(words), 2, figsize=(15, 10),\n",
    "                       sharey=True, sharex=True)\n",
    "\n",
    "for i in range(len(words)):\n",
    "    for word in words[i]:\n",
    "        ax[i, 0].plot(iss.iss(x1, word, normalize=True), label=f\"${word}$\")\n",
    "        ax[i, 1].plot(iss.iss(x2, word, normalize=True), label=f\"${word}$\")"
   ]
  },
  {
   "cell_type": "markdown",
   "metadata": {},
   "source": [
    "## Arctic ISS"
   ]
  },
  {
   "cell_type": "code",
   "execution_count": 2,
   "metadata": {},
   "outputs": [],
   "source": [
    "x = np.array([\n",
    "    # [1, 3, -4, 2, 0, 5, 1, 1]\n",
    "    [1, 0, -4, 1, -4, 5],\n",
    "    [-4, -7, -3, -2, -5, -8],\n",
    "    [1, 2, 6, 2, 8, 2],\n",
    "]).swapaxes(0, 1)"
   ]
  },
  {
   "cell_type": "code",
   "execution_count": null,
   "metadata": {},
   "outputs": [],
   "source": [
    "iss.cumargmax(x, iss.Word(\"[1][2][3]\"), partial=False)"
   ]
  },
  {
   "cell_type": "code",
   "execution_count": null,
   "metadata": {},
   "outputs": [],
   "source": [
    "x = brownian(1000)\n",
    "cm = iss.cumargmax(x, \"+-+-+-+-\")\n",
    "up_to = [249, 499, 749, 999]\n",
    "\n",
    "fig, ax = plt.subplots(len(up_to), 1, figsize=(10, 15))\n",
    "for i, ut in enumerate(up_to):\n",
    "    ax[i].plot(x)\n",
    "    ax[i].plot(cm[1][0][ut], x[cm[1][0][ut]], \"o\", color=(1, 0, 0, 0.75))\n",
    "    ax[i].axvspan(ut, 1000, facecolor=(0, 0, 0.2, 0.75), zorder=100)\n",
    "plt.show()"
   ]
  }
 ],
 "metadata": {
  "kernelspec": {
   "display_name": "iss-WLwaHb1Y-py3.12",
   "language": "python",
   "name": "python3"
  },
  "language_info": {
   "codemirror_mode": {
    "name": "ipython",
    "version": 3
   },
   "file_extension": ".py",
   "mimetype": "text/x-python",
   "name": "python",
   "nbconvert_exporter": "python",
   "pygments_lexer": "ipython3",
   "version": "3.12.4"
  }
 },
 "nbformat": 4,
 "nbformat_minor": 2
}
