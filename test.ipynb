{
 "cells": [
  {
   "cell_type": "code",
   "execution_count": 1,
   "metadata": {},
   "outputs": [],
   "source": [
    "import re\n",
    "# FORMAT = re.compile(r\"(\\[(-?\\d|\\(-?\\d+\\))(\\^(-?\\d+|\\(-?\\d+\\)))?\\])+\")\n",
    "FORMAT = re.compile(r\"(?:(-?\\d)|\\((-?\\d+)\\))(?:\\^(?:(-?\\d)|\\((-?\\d+)\\)))?\")\n",
    "FULLFORMAT = re.compile(r\"(\\[(((-?\\d)|\\((-?\\d+)\\))(\\^((-?\\d)|\\((-?\\d+)\\)))?)+\\])+\")\n"
   ]
  },
  {
   "cell_type": "code",
   "execution_count": 12,
   "metadata": {},
   "outputs": [
    {
     "name": "stdout",
     "output_type": "stream",
     "text": [
      "None\n"
     ]
    }
   ],
   "source": [
    "print(FULLFORMAT.fullmatch(\"[(-13)^(-2)][1^(25)3][]\"))"
   ]
  },
  {
   "cell_type": "code",
   "execution_count": 11,
   "metadata": {},
   "outputs": [
    {
     "data": {
      "text/plain": [
       "[]"
      ]
     },
     "execution_count": 11,
     "metadata": {},
     "output_type": "execute_result"
    }
   ],
   "source": [
    "FULLFORMAT.findall(\"feff\")"
   ]
  },
  {
   "cell_type": "code",
   "execution_count": 1,
   "metadata": {},
   "outputs": [],
   "source": [
    "import iss\n",
    "\n",
    "word = iss.Word(\"[(12)^(-2)334^54][1^(23)334]\")"
   ]
  },
  {
   "cell_type": "code",
   "execution_count": 2,
   "metadata": {},
   "outputs": [
    {
     "data": {
      "text/plain": [
       "array([[ 0.,  0.,  2.,  6.,  0.,  0.,  0.,  0.,  0.,  0.,  0., -2.],\n",
       "       [23.,  0.,  2.,  1.,  0.,  0.,  0.,  0.,  0.,  0.,  0.,  0.]])"
      ]
     },
     "execution_count": 2,
     "metadata": {},
     "output_type": "execute_result"
    }
   ],
   "source": [
    "word.numpy()"
   ]
  },
  {
   "cell_type": "code",
   "execution_count": 6,
   "metadata": {},
   "outputs": [
    {
     "data": {
      "text/plain": [
       "'[(12)^(-2)3^24^6][1^(23)3^24]'"
      ]
     },
     "execution_count": 6,
     "metadata": {},
     "output_type": "execute_result"
    }
   ],
   "source": [
    "str(word)"
   ]
  },
  {
   "cell_type": "code",
   "execution_count": 7,
   "metadata": {},
   "outputs": [
    {
     "data": {
      "text/plain": [
       "'[12^3][(12)^(-2)3^24^6][1^(23)3^24]'"
      ]
     },
     "execution_count": 7,
     "metadata": {},
     "output_type": "execute_result"
    }
   ],
   "source": [
    "str(\"[1222]\"*word)"
   ]
  }
 ],
 "metadata": {
  "kernelspec": {
   "display_name": "iss-Qrml41Ps-py3.12",
   "language": "python",
   "name": "python3"
  },
  "language_info": {
   "codemirror_mode": {
    "name": "ipython",
    "version": 3
   },
   "file_extension": ".py",
   "mimetype": "text/x-python",
   "name": "python",
   "nbconvert_exporter": "python",
   "pygments_lexer": "ipython3",
   "version": "3.12.4"
  }
 },
 "nbformat": 4,
 "nbformat_minor": 2
}
